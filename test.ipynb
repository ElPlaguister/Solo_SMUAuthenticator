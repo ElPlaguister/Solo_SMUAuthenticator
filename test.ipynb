{
 "cells": [
  {
   "cell_type": "code",
   "execution_count": 148,
   "metadata": {},
   "outputs": [],
   "source": [
    "import imaplib\n",
    "import email\n",
    "from email import policy \n",
    "import requests\n",
    "from bs4 import BeautifulSoup as bs\n",
    "import time\n",
    "import re"
   ]
  },
  {
   "cell_type": "code",
   "execution_count": 93,
   "metadata": {},
   "outputs": [],
   "source": [
    "from private.privateManager import getKey"
   ]
  },
  {
   "cell_type": "code",
   "execution_count": 107,
   "metadata": {},
   "outputs": [],
   "source": [
    "def login():\n",
    "    imap = imaplib.IMAP4_SSL('imap.naver.com')\n",
    "    id = getKey('naver_email')\n",
    "    pw = getKey('naver_password')\n",
    "    imap.login(id, pw)\n",
    "    return imap"
   ]
  },
  {
   "cell_type": "code",
   "execution_count": 108,
   "metadata": {},
   "outputs": [],
   "source": [
    "def get_link(message):\n",
    "    byte = message.get_payload()\n",
    "    return byte.split(' ')[4].split('=')[0]"
   ]
  },
  {
   "cell_type": "code",
   "execution_count": 109,
   "metadata": {},
   "outputs": [],
   "source": [
    "authSender = 'noreply@ruauth3.coursemos.kr'"
   ]
  },
  {
   "cell_type": "code",
   "execution_count": 155,
   "metadata": {},
   "outputs": [],
   "source": [
    "session = login()\n",
    "session.select('inbox')\n",
    "last_mail = session.search('utf-8', 'From', authSender)[1][-1].split(b' ')[-1]\n",
    "data = session.fetch(last_mail, '(RFC822)')[1]\n",
    "raw_mail = data[0][1]\n",
    "email_message = email.message_from_bytes(raw_mail, policy = policy.default)\n",
    "link = get_link(email_message)"
   ]
  },
  {
   "cell_type": "code",
   "execution_count": 156,
   "metadata": {},
   "outputs": [
    {
     "data": {
      "text/plain": [
       "'https://me2.do/FkPgKWRs'"
      ]
     },
     "execution_count": 156,
     "metadata": {},
     "output_type": "execute_result"
    }
   ],
   "source": [
    "link"
   ]
  },
  {
   "cell_type": "code",
   "execution_count": 149,
   "metadata": {},
   "outputs": [],
   "source": [
    "def print_time():\n",
    "    now = time.localtime()\n",
    "    print (\"%04d/%02d/%02d %02d:%02d:%02d\" % (now.tm_year, now.tm_mon, now.tm_mday, now.tm_hour, now.tm_min, now.tm_sec))\n",
    "\n",
    "def no_space(text):\n",
    "  text1 = re.sub('\\nbsp;|&nbsp;|\\n|\\t|\\r|  ', '', text)\n",
    "  text2 = re.sub('\\n\\n', '', text1)\n",
    "  return text2"
   ]
  },
  {
   "cell_type": "code",
   "execution_count": 151,
   "metadata": {},
   "outputs": [],
   "source": [
    "def authentication(link):\n",
    "    resp = requests.get(link)\n",
    "    soup = bs(resp, 'html.parser')\n",
    "    result = no_space(soup.find('div', {'class' : 'box-message'}).text)\n",
    "    print_time()\n",
    "    print(result)"
   ]
  },
  {
   "cell_type": "code",
   "execution_count": 152,
   "metadata": {},
   "outputs": [
    {
     "ename": "NameError",
     "evalue": "name 'auth' is not defined",
     "output_type": "error",
     "traceback": [
      "\u001b[0;31m---------------------------------------------------------------------------\u001b[0m",
      "\u001b[0;31mNameError\u001b[0m                                 Traceback (most recent call last)",
      "\u001b[1;32m/Users/elplaguister/Workspace/Solo_SmuAutoAuth/test.ipynb Cell 10'\u001b[0m in \u001b[0;36m<cell line: 1>\u001b[0;34m()\u001b[0m\n\u001b[0;32m----> <a href='vscode-notebook-cell:/Users/elplaguister/Workspace/Solo_SmuAutoAuth/test.ipynb#ch0000029?line=0'>1</a>\u001b[0m auth\n",
      "\u001b[0;31mNameError\u001b[0m: name 'auth' is not defined"
     ]
    }
   ],
   "source": [
    "authentication(link)"
   ]
  },
  {
   "cell_type": "code",
   "execution_count": 143,
   "metadata": {},
   "outputs": [
    {
     "data": {
      "text/plain": [
       "('OK', [b'70 (FLAGS (\\\\Deleted))'])"
      ]
     },
     "execution_count": 143,
     "metadata": {},
     "output_type": "execute_result"
    }
   ],
   "source": [
    "session.store(last_mail, '+FLAGS', '\\\\Deleted')"
   ]
  },
  {
   "cell_type": "code",
   "execution_count": 144,
   "metadata": {},
   "outputs": [
    {
     "data": {
      "text/plain": [
       "('BYE', [b'Logging out'])"
      ]
     },
     "execution_count": 144,
     "metadata": {},
     "output_type": "execute_result"
    }
   ],
   "source": [
    "session.expunge()\n",
    "session.close()\n",
    "session.logout()"
   ]
  },
  {
   "cell_type": "code",
   "execution_count": 154,
   "metadata": {},
   "outputs": [
    {
     "data": {
      "text/plain": [
       "'68'"
      ]
     },
     "execution_count": 154,
     "metadata": {},
     "output_type": "execute_result"
    }
   ],
   "source": [
    "b'68'.decode('utf-8')"
   ]
  },
  {
   "cell_type": "code",
   "execution_count": 178,
   "metadata": {},
   "outputs": [],
   "source": [
    "def getDateId(date):\n",
    "    date = date.split(',')[1].strip().split(' ')[:-2]\n",
    "    accsum = int(date[2])\n",
    "    monthList = ['Jan', 'Feb', 'Mar', 'Apr', 'May', 'Jun', 'Jul', 'Aug', 'Sep', 'Oct', 'Nov', 'Dec']\n",
    "    i = 0\n",
    "    for month in monthList:\n",
    "        i += 1\n",
    "        if date[1] == month:\n",
    "            break\n",
    "    accsum = accsum * 12 + i\n",
    "    accsum = accsum * 50 + int(date[0])\n",
    "    return accsum"
   ]
  },
  {
   "cell_type": "code",
   "execution_count": 179,
   "metadata": {},
   "outputs": [],
   "source": [
    "def getCurId():\n",
    "    now = time.localtime()\n",
    "    id = ((now.tm_year * 12) + now.tm_mon) * 50 + now.tm_mday\n",
    "    return id"
   ]
  },
  {
   "cell_type": "code",
   "execution_count": 180,
   "metadata": {},
   "outputs": [
    {
     "name": "stdout",
     "output_type": "stream",
     "text": [
      "1213458\n",
      "1213458\n"
     ]
    }
   ],
   "source": [
    "print(getDateId(email_message['Date']))\n",
    "print(getCurId())"
   ]
  },
  {
   "cell_type": "code",
   "execution_count": 163,
   "metadata": {},
   "outputs": [
    {
     "data": {
      "text/plain": [
       "['08', 'May', '2022', '03:11:42']"
      ]
     },
     "execution_count": 163,
     "metadata": {},
     "output_type": "execute_result"
    }
   ],
   "source": [
    "date = email_message['Date'].split(',')[1].strip()\n",
    "d = date.split(' ')[:-1]\n",
    "d"
   ]
  },
  {
   "cell_type": "code",
   "execution_count": 165,
   "metadata": {},
   "outputs": [],
   "source": [
    "accsum = int(d[2])"
   ]
  },
  {
   "cell_type": "code",
   "execution_count": 166,
   "metadata": {},
   "outputs": [],
   "source": [
    "monthList = ['Jan', 'Feb', 'Mar', 'Apr', 'May', 'Jun', 'Jul', 'Aug', 'Sep', 'Oct', 'Nov', 'Dec']\n",
    "i = 0\n",
    "for month in monthList:\n",
    "    i += 1\n",
    "    if d[1] == month:\n",
    "        break\n",
    "accsum = accsum * 12 + i"
   ]
  },
  {
   "cell_type": "code",
   "execution_count": 173,
   "metadata": {},
   "outputs": [
    {
     "data": {
      "text/plain": [
       "24269"
      ]
     },
     "execution_count": 173,
     "metadata": {},
     "output_type": "execute_result"
    }
   ],
   "source": [
    "2022 * 12  + 5"
   ]
  },
  {
   "cell_type": "code",
   "execution_count": 174,
   "metadata": {},
   "outputs": [
    {
     "data": {
      "text/plain": [
       "1213458"
      ]
     },
     "execution_count": 174,
     "metadata": {},
     "output_type": "execute_result"
    }
   ],
   "source": [
    "accsum * 50 + int(d[0])"
   ]
  },
  {
   "cell_type": "code",
   "execution_count": null,
   "metadata": {},
   "outputs": [],
   "source": []
  }
 ],
 "metadata": {
  "interpreter": {
   "hash": "432226cac510af23f209b0f3020455090cb0f7429b27b1c99c807571a68fbc6b"
  },
  "kernelspec": {
   "display_name": "Python 3.8.1 ('solo_smucrawler')",
   "language": "python",
   "name": "python3"
  },
  "language_info": {
   "codemirror_mode": {
    "name": "ipython",
    "version": 3
   },
   "file_extension": ".py",
   "mimetype": "text/x-python",
   "name": "python",
   "nbconvert_exporter": "python",
   "pygments_lexer": "ipython3",
   "version": "3.8.1"
  },
  "orig_nbformat": 4
 },
 "nbformat": 4,
 "nbformat_minor": 2
}
